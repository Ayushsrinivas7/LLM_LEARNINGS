{
  "nbformat": 4,
  "nbformat_minor": 0,
  "metadata": {
    "colab": {
      "provenance": []
    },
    "kernelspec": {
      "name": "python3",
      "display_name": "Python 3"
    },
    "language_info": {
      "name": "python"
    },
    "widgets": {
      "application/vnd.jupyter.widget-state+json": {
        "ef70622dcdb144a0b290f091bd4a27f7": {
          "model_module": "@jupyter-widgets/controls",
          "model_name": "HBoxModel",
          "model_module_version": "1.5.0",
          "state": {
            "_dom_classes": [],
            "_model_module": "@jupyter-widgets/controls",
            "_model_module_version": "1.5.0",
            "_model_name": "HBoxModel",
            "_view_count": null,
            "_view_module": "@jupyter-widgets/controls",
            "_view_module_version": "1.5.0",
            "_view_name": "HBoxView",
            "box_style": "",
            "children": [
              "IPY_MODEL_5849c820dad442f6b2c505eb6268ef2b",
              "IPY_MODEL_9f792e2d15b543c0975834026ecc113e",
              "IPY_MODEL_6be9237f3ba3455e8de0b43daec99cd0"
            ],
            "layout": "IPY_MODEL_841e91b71406449fa69d6e5040a54692"
          }
        },
        "5849c820dad442f6b2c505eb6268ef2b": {
          "model_module": "@jupyter-widgets/controls",
          "model_name": "HTMLModel",
          "model_module_version": "1.5.0",
          "state": {
            "_dom_classes": [],
            "_model_module": "@jupyter-widgets/controls",
            "_model_module_version": "1.5.0",
            "_model_name": "HTMLModel",
            "_view_count": null,
            "_view_module": "@jupyter-widgets/controls",
            "_view_module_version": "1.5.0",
            "_view_name": "HTMLView",
            "description": "",
            "description_tooltip": null,
            "layout": "IPY_MODEL_83dea2cae9ef42bfad48167b02afe7aa",
            "placeholder": "​",
            "style": "IPY_MODEL_e27a03892d094368b123e2bc935c5112",
            "value": "config.json: 100%"
          }
        },
        "9f792e2d15b543c0975834026ecc113e": {
          "model_module": "@jupyter-widgets/controls",
          "model_name": "FloatProgressModel",
          "model_module_version": "1.5.0",
          "state": {
            "_dom_classes": [],
            "_model_module": "@jupyter-widgets/controls",
            "_model_module_version": "1.5.0",
            "_model_name": "FloatProgressModel",
            "_view_count": null,
            "_view_module": "@jupyter-widgets/controls",
            "_view_module_version": "1.5.0",
            "_view_name": "ProgressView",
            "bar_style": "success",
            "description": "",
            "description_tooltip": null,
            "layout": "IPY_MODEL_93fa48c7903946438be7ca0573555941",
            "max": 665,
            "min": 0,
            "orientation": "horizontal",
            "style": "IPY_MODEL_963d2c7685954f6099099c4dc124edb8",
            "value": 665
          }
        },
        "6be9237f3ba3455e8de0b43daec99cd0": {
          "model_module": "@jupyter-widgets/controls",
          "model_name": "HTMLModel",
          "model_module_version": "1.5.0",
          "state": {
            "_dom_classes": [],
            "_model_module": "@jupyter-widgets/controls",
            "_model_module_version": "1.5.0",
            "_model_name": "HTMLModel",
            "_view_count": null,
            "_view_module": "@jupyter-widgets/controls",
            "_view_module_version": "1.5.0",
            "_view_name": "HTMLView",
            "description": "",
            "description_tooltip": null,
            "layout": "IPY_MODEL_9fddb161d43247469cdd210d054970c9",
            "placeholder": "​",
            "style": "IPY_MODEL_b795a5e8c0644a87948a41d503bc6b9b",
            "value": " 665/665 [00:00&lt;00:00, 32.1kB/s]"
          }
        },
        "841e91b71406449fa69d6e5040a54692": {
          "model_module": "@jupyter-widgets/base",
          "model_name": "LayoutModel",
          "model_module_version": "1.2.0",
          "state": {
            "_model_module": "@jupyter-widgets/base",
            "_model_module_version": "1.2.0",
            "_model_name": "LayoutModel",
            "_view_count": null,
            "_view_module": "@jupyter-widgets/base",
            "_view_module_version": "1.2.0",
            "_view_name": "LayoutView",
            "align_content": null,
            "align_items": null,
            "align_self": null,
            "border": null,
            "bottom": null,
            "display": null,
            "flex": null,
            "flex_flow": null,
            "grid_area": null,
            "grid_auto_columns": null,
            "grid_auto_flow": null,
            "grid_auto_rows": null,
            "grid_column": null,
            "grid_gap": null,
            "grid_row": null,
            "grid_template_areas": null,
            "grid_template_columns": null,
            "grid_template_rows": null,
            "height": null,
            "justify_content": null,
            "justify_items": null,
            "left": null,
            "margin": null,
            "max_height": null,
            "max_width": null,
            "min_height": null,
            "min_width": null,
            "object_fit": null,
            "object_position": null,
            "order": null,
            "overflow": null,
            "overflow_x": null,
            "overflow_y": null,
            "padding": null,
            "right": null,
            "top": null,
            "visibility": null,
            "width": null
          }
        },
        "83dea2cae9ef42bfad48167b02afe7aa": {
          "model_module": "@jupyter-widgets/base",
          "model_name": "LayoutModel",
          "model_module_version": "1.2.0",
          "state": {
            "_model_module": "@jupyter-widgets/base",
            "_model_module_version": "1.2.0",
            "_model_name": "LayoutModel",
            "_view_count": null,
            "_view_module": "@jupyter-widgets/base",
            "_view_module_version": "1.2.0",
            "_view_name": "LayoutView",
            "align_content": null,
            "align_items": null,
            "align_self": null,
            "border": null,
            "bottom": null,
            "display": null,
            "flex": null,
            "flex_flow": null,
            "grid_area": null,
            "grid_auto_columns": null,
            "grid_auto_flow": null,
            "grid_auto_rows": null,
            "grid_column": null,
            "grid_gap": null,
            "grid_row": null,
            "grid_template_areas": null,
            "grid_template_columns": null,
            "grid_template_rows": null,
            "height": null,
            "justify_content": null,
            "justify_items": null,
            "left": null,
            "margin": null,
            "max_height": null,
            "max_width": null,
            "min_height": null,
            "min_width": null,
            "object_fit": null,
            "object_position": null,
            "order": null,
            "overflow": null,
            "overflow_x": null,
            "overflow_y": null,
            "padding": null,
            "right": null,
            "top": null,
            "visibility": null,
            "width": null
          }
        },
        "e27a03892d094368b123e2bc935c5112": {
          "model_module": "@jupyter-widgets/controls",
          "model_name": "DescriptionStyleModel",
          "model_module_version": "1.5.0",
          "state": {
            "_model_module": "@jupyter-widgets/controls",
            "_model_module_version": "1.5.0",
            "_model_name": "DescriptionStyleModel",
            "_view_count": null,
            "_view_module": "@jupyter-widgets/base",
            "_view_module_version": "1.2.0",
            "_view_name": "StyleView",
            "description_width": ""
          }
        },
        "93fa48c7903946438be7ca0573555941": {
          "model_module": "@jupyter-widgets/base",
          "model_name": "LayoutModel",
          "model_module_version": "1.2.0",
          "state": {
            "_model_module": "@jupyter-widgets/base",
            "_model_module_version": "1.2.0",
            "_model_name": "LayoutModel",
            "_view_count": null,
            "_view_module": "@jupyter-widgets/base",
            "_view_module_version": "1.2.0",
            "_view_name": "LayoutView",
            "align_content": null,
            "align_items": null,
            "align_self": null,
            "border": null,
            "bottom": null,
            "display": null,
            "flex": null,
            "flex_flow": null,
            "grid_area": null,
            "grid_auto_columns": null,
            "grid_auto_flow": null,
            "grid_auto_rows": null,
            "grid_column": null,
            "grid_gap": null,
            "grid_row": null,
            "grid_template_areas": null,
            "grid_template_columns": null,
            "grid_template_rows": null,
            "height": null,
            "justify_content": null,
            "justify_items": null,
            "left": null,
            "margin": null,
            "max_height": null,
            "max_width": null,
            "min_height": null,
            "min_width": null,
            "object_fit": null,
            "object_position": null,
            "order": null,
            "overflow": null,
            "overflow_x": null,
            "overflow_y": null,
            "padding": null,
            "right": null,
            "top": null,
            "visibility": null,
            "width": null
          }
        },
        "963d2c7685954f6099099c4dc124edb8": {
          "model_module": "@jupyter-widgets/controls",
          "model_name": "ProgressStyleModel",
          "model_module_version": "1.5.0",
          "state": {
            "_model_module": "@jupyter-widgets/controls",
            "_model_module_version": "1.5.0",
            "_model_name": "ProgressStyleModel",
            "_view_count": null,
            "_view_module": "@jupyter-widgets/base",
            "_view_module_version": "1.2.0",
            "_view_name": "StyleView",
            "bar_color": null,
            "description_width": ""
          }
        },
        "9fddb161d43247469cdd210d054970c9": {
          "model_module": "@jupyter-widgets/base",
          "model_name": "LayoutModel",
          "model_module_version": "1.2.0",
          "state": {
            "_model_module": "@jupyter-widgets/base",
            "_model_module_version": "1.2.0",
            "_model_name": "LayoutModel",
            "_view_count": null,
            "_view_module": "@jupyter-widgets/base",
            "_view_module_version": "1.2.0",
            "_view_name": "LayoutView",
            "align_content": null,
            "align_items": null,
            "align_self": null,
            "border": null,
            "bottom": null,
            "display": null,
            "flex": null,
            "flex_flow": null,
            "grid_area": null,
            "grid_auto_columns": null,
            "grid_auto_flow": null,
            "grid_auto_rows": null,
            "grid_column": null,
            "grid_gap": null,
            "grid_row": null,
            "grid_template_areas": null,
            "grid_template_columns": null,
            "grid_template_rows": null,
            "height": null,
            "justify_content": null,
            "justify_items": null,
            "left": null,
            "margin": null,
            "max_height": null,
            "max_width": null,
            "min_height": null,
            "min_width": null,
            "object_fit": null,
            "object_position": null,
            "order": null,
            "overflow": null,
            "overflow_x": null,
            "overflow_y": null,
            "padding": null,
            "right": null,
            "top": null,
            "visibility": null,
            "width": null
          }
        },
        "b795a5e8c0644a87948a41d503bc6b9b": {
          "model_module": "@jupyter-widgets/controls",
          "model_name": "DescriptionStyleModel",
          "model_module_version": "1.5.0",
          "state": {
            "_model_module": "@jupyter-widgets/controls",
            "_model_module_version": "1.5.0",
            "_model_name": "DescriptionStyleModel",
            "_view_count": null,
            "_view_module": "@jupyter-widgets/base",
            "_view_module_version": "1.2.0",
            "_view_name": "StyleView",
            "description_width": ""
          }
        },
        "24a79b4a87c74560803afe63601d7164": {
          "model_module": "@jupyter-widgets/controls",
          "model_name": "HBoxModel",
          "model_module_version": "1.5.0",
          "state": {
            "_dom_classes": [],
            "_model_module": "@jupyter-widgets/controls",
            "_model_module_version": "1.5.0",
            "_model_name": "HBoxModel",
            "_view_count": null,
            "_view_module": "@jupyter-widgets/controls",
            "_view_module_version": "1.5.0",
            "_view_name": "HBoxView",
            "box_style": "",
            "children": [
              "IPY_MODEL_2449e37e7e0947f38c824b10b75aec20",
              "IPY_MODEL_42139b8e01ff4721b452dc274aa42e00",
              "IPY_MODEL_18f00ef4ae6140159715228d54577416"
            ],
            "layout": "IPY_MODEL_2143e3edd9f548ff881d66eeca78ed63"
          }
        },
        "2449e37e7e0947f38c824b10b75aec20": {
          "model_module": "@jupyter-widgets/controls",
          "model_name": "HTMLModel",
          "model_module_version": "1.5.0",
          "state": {
            "_dom_classes": [],
            "_model_module": "@jupyter-widgets/controls",
            "_model_module_version": "1.5.0",
            "_model_name": "HTMLModel",
            "_view_count": null,
            "_view_module": "@jupyter-widgets/controls",
            "_view_module_version": "1.5.0",
            "_view_name": "HTMLView",
            "description": "",
            "description_tooltip": null,
            "layout": "IPY_MODEL_171667894aa54bbb96de980205d68c71",
            "placeholder": "​",
            "style": "IPY_MODEL_a8f0086280844590a2b7692d1f4f2049",
            "value": "model.safetensors: 100%"
          }
        },
        "42139b8e01ff4721b452dc274aa42e00": {
          "model_module": "@jupyter-widgets/controls",
          "model_name": "FloatProgressModel",
          "model_module_version": "1.5.0",
          "state": {
            "_dom_classes": [],
            "_model_module": "@jupyter-widgets/controls",
            "_model_module_version": "1.5.0",
            "_model_name": "FloatProgressModel",
            "_view_count": null,
            "_view_module": "@jupyter-widgets/controls",
            "_view_module_version": "1.5.0",
            "_view_name": "ProgressView",
            "bar_style": "success",
            "description": "",
            "description_tooltip": null,
            "layout": "IPY_MODEL_46c7dea40fbe45cf9997cd0475974045",
            "max": 548105171,
            "min": 0,
            "orientation": "horizontal",
            "style": "IPY_MODEL_a4ea221636bb4a93844bd3d8c1ecabe6",
            "value": 548105171
          }
        },
        "18f00ef4ae6140159715228d54577416": {
          "model_module": "@jupyter-widgets/controls",
          "model_name": "HTMLModel",
          "model_module_version": "1.5.0",
          "state": {
            "_dom_classes": [],
            "_model_module": "@jupyter-widgets/controls",
            "_model_module_version": "1.5.0",
            "_model_name": "HTMLModel",
            "_view_count": null,
            "_view_module": "@jupyter-widgets/controls",
            "_view_module_version": "1.5.0",
            "_view_name": "HTMLView",
            "description": "",
            "description_tooltip": null,
            "layout": "IPY_MODEL_64174eaeaba045529bdd527e6e5010cf",
            "placeholder": "​",
            "style": "IPY_MODEL_47c1efb4cd534995a58ac8405bfee066",
            "value": " 548M/548M [00:02&lt;00:00, 244MB/s]"
          }
        },
        "2143e3edd9f548ff881d66eeca78ed63": {
          "model_module": "@jupyter-widgets/base",
          "model_name": "LayoutModel",
          "model_module_version": "1.2.0",
          "state": {
            "_model_module": "@jupyter-widgets/base",
            "_model_module_version": "1.2.0",
            "_model_name": "LayoutModel",
            "_view_count": null,
            "_view_module": "@jupyter-widgets/base",
            "_view_module_version": "1.2.0",
            "_view_name": "LayoutView",
            "align_content": null,
            "align_items": null,
            "align_self": null,
            "border": null,
            "bottom": null,
            "display": null,
            "flex": null,
            "flex_flow": null,
            "grid_area": null,
            "grid_auto_columns": null,
            "grid_auto_flow": null,
            "grid_auto_rows": null,
            "grid_column": null,
            "grid_gap": null,
            "grid_row": null,
            "grid_template_areas": null,
            "grid_template_columns": null,
            "grid_template_rows": null,
            "height": null,
            "justify_content": null,
            "justify_items": null,
            "left": null,
            "margin": null,
            "max_height": null,
            "max_width": null,
            "min_height": null,
            "min_width": null,
            "object_fit": null,
            "object_position": null,
            "order": null,
            "overflow": null,
            "overflow_x": null,
            "overflow_y": null,
            "padding": null,
            "right": null,
            "top": null,
            "visibility": null,
            "width": null
          }
        },
        "171667894aa54bbb96de980205d68c71": {
          "model_module": "@jupyter-widgets/base",
          "model_name": "LayoutModel",
          "model_module_version": "1.2.0",
          "state": {
            "_model_module": "@jupyter-widgets/base",
            "_model_module_version": "1.2.0",
            "_model_name": "LayoutModel",
            "_view_count": null,
            "_view_module": "@jupyter-widgets/base",
            "_view_module_version": "1.2.0",
            "_view_name": "LayoutView",
            "align_content": null,
            "align_items": null,
            "align_self": null,
            "border": null,
            "bottom": null,
            "display": null,
            "flex": null,
            "flex_flow": null,
            "grid_area": null,
            "grid_auto_columns": null,
            "grid_auto_flow": null,
            "grid_auto_rows": null,
            "grid_column": null,
            "grid_gap": null,
            "grid_row": null,
            "grid_template_areas": null,
            "grid_template_columns": null,
            "grid_template_rows": null,
            "height": null,
            "justify_content": null,
            "justify_items": null,
            "left": null,
            "margin": null,
            "max_height": null,
            "max_width": null,
            "min_height": null,
            "min_width": null,
            "object_fit": null,
            "object_position": null,
            "order": null,
            "overflow": null,
            "overflow_x": null,
            "overflow_y": null,
            "padding": null,
            "right": null,
            "top": null,
            "visibility": null,
            "width": null
          }
        },
        "a8f0086280844590a2b7692d1f4f2049": {
          "model_module": "@jupyter-widgets/controls",
          "model_name": "DescriptionStyleModel",
          "model_module_version": "1.5.0",
          "state": {
            "_model_module": "@jupyter-widgets/controls",
            "_model_module_version": "1.5.0",
            "_model_name": "DescriptionStyleModel",
            "_view_count": null,
            "_view_module": "@jupyter-widgets/base",
            "_view_module_version": "1.2.0",
            "_view_name": "StyleView",
            "description_width": ""
          }
        },
        "46c7dea40fbe45cf9997cd0475974045": {
          "model_module": "@jupyter-widgets/base",
          "model_name": "LayoutModel",
          "model_module_version": "1.2.0",
          "state": {
            "_model_module": "@jupyter-widgets/base",
            "_model_module_version": "1.2.0",
            "_model_name": "LayoutModel",
            "_view_count": null,
            "_view_module": "@jupyter-widgets/base",
            "_view_module_version": "1.2.0",
            "_view_name": "LayoutView",
            "align_content": null,
            "align_items": null,
            "align_self": null,
            "border": null,
            "bottom": null,
            "display": null,
            "flex": null,
            "flex_flow": null,
            "grid_area": null,
            "grid_auto_columns": null,
            "grid_auto_flow": null,
            "grid_auto_rows": null,
            "grid_column": null,
            "grid_gap": null,
            "grid_row": null,
            "grid_template_areas": null,
            "grid_template_columns": null,
            "grid_template_rows": null,
            "height": null,
            "justify_content": null,
            "justify_items": null,
            "left": null,
            "margin": null,
            "max_height": null,
            "max_width": null,
            "min_height": null,
            "min_width": null,
            "object_fit": null,
            "object_position": null,
            "order": null,
            "overflow": null,
            "overflow_x": null,
            "overflow_y": null,
            "padding": null,
            "right": null,
            "top": null,
            "visibility": null,
            "width": null
          }
        },
        "a4ea221636bb4a93844bd3d8c1ecabe6": {
          "model_module": "@jupyter-widgets/controls",
          "model_name": "ProgressStyleModel",
          "model_module_version": "1.5.0",
          "state": {
            "_model_module": "@jupyter-widgets/controls",
            "_model_module_version": "1.5.0",
            "_model_name": "ProgressStyleModel",
            "_view_count": null,
            "_view_module": "@jupyter-widgets/base",
            "_view_module_version": "1.2.0",
            "_view_name": "StyleView",
            "bar_color": null,
            "description_width": ""
          }
        },
        "64174eaeaba045529bdd527e6e5010cf": {
          "model_module": "@jupyter-widgets/base",
          "model_name": "LayoutModel",
          "model_module_version": "1.2.0",
          "state": {
            "_model_module": "@jupyter-widgets/base",
            "_model_module_version": "1.2.0",
            "_model_name": "LayoutModel",
            "_view_count": null,
            "_view_module": "@jupyter-widgets/base",
            "_view_module_version": "1.2.0",
            "_view_name": "LayoutView",
            "align_content": null,
            "align_items": null,
            "align_self": null,
            "border": null,
            "bottom": null,
            "display": null,
            "flex": null,
            "flex_flow": null,
            "grid_area": null,
            "grid_auto_columns": null,
            "grid_auto_flow": null,
            "grid_auto_rows": null,
            "grid_column": null,
            "grid_gap": null,
            "grid_row": null,
            "grid_template_areas": null,
            "grid_template_columns": null,
            "grid_template_rows": null,
            "height": null,
            "justify_content": null,
            "justify_items": null,
            "left": null,
            "margin": null,
            "max_height": null,
            "max_width": null,
            "min_height": null,
            "min_width": null,
            "object_fit": null,
            "object_position": null,
            "order": null,
            "overflow": null,
            "overflow_x": null,
            "overflow_y": null,
            "padding": null,
            "right": null,
            "top": null,
            "visibility": null,
            "width": null
          }
        },
        "47c1efb4cd534995a58ac8405bfee066": {
          "model_module": "@jupyter-widgets/controls",
          "model_name": "DescriptionStyleModel",
          "model_module_version": "1.5.0",
          "state": {
            "_model_module": "@jupyter-widgets/controls",
            "_model_module_version": "1.5.0",
            "_model_name": "DescriptionStyleModel",
            "_view_count": null,
            "_view_module": "@jupyter-widgets/base",
            "_view_module_version": "1.2.0",
            "_view_name": "StyleView",
            "description_width": ""
          }
        }
      }
    }
  },
  "cells": [
    {
      "cell_type": "code",
      "execution_count": null,
      "metadata": {
        "id": "vN5Yn528kI16"
      },
      "outputs": [],
      "source": [
        "!pip install tiktoken  tensorflow>=2.15.0 tqdm>=4.66 transformers"
      ]
    },
    {
      "cell_type": "code",
      "source": [],
      "metadata": {
        "id": "IuIXvsnkoSwE"
      },
      "execution_count": null,
      "outputs": []
    },
    {
      "cell_type": "code",
      "source": [
        "from GPT2_model import GPTModel\n",
        "GPT_CONFIG_124M = {\n",
        "    \"vocab_size\": 50257,   # Vocabulary size\n",
        "    \"context_length\": 256, # Shortened context length (orig: 1024)\n",
        "    \"emb_dim\": 768,        # Embedding dimension\n",
        "    \"n_heads\": 12,         # Number of attention heads\n",
        "    \"n_layers\": 12,        # Number of layers\n",
        "    \"drop_rate\": 0.1,      # Dropout rate\n",
        "    \"qkv_bias\": False      # Query-key-value bias\n",
        "}"
      ],
      "metadata": {
        "id": "M2F0Z834kndp"
      },
      "execution_count": null,
      "outputs": []
    },
    {
      "cell_type": "code",
      "source": [
        "from transformers import GPT2Model\n"
      ],
      "metadata": {
        "id": "bdvQ0zT0kqX5"
      },
      "execution_count": null,
      "outputs": []
    },
    {
      "cell_type": "code",
      "source": [
        "model_names = {\n",
        "    \"gpt2-small (124M)\": \"openai-community/gpt2\",\n",
        "    \"gpt2-medium (355M)\": \"openai-community/gpt2-medium\",\n",
        "    \"gpt2-large (774M)\": \"openai-community/gpt2-large\",\n",
        "    \"gpt2-xl (1558M)\": \"openai-community/gpt2-xl\"\n",
        "}\n",
        "\n",
        "CHOOSE_MODEL = \"gpt2-small (124M)\"\n",
        "\n",
        "gpt_hf = GPT2Model.from_pretrained(model_names[CHOOSE_MODEL], cache_dir=\"checkpoints\")\n"
      ],
      "metadata": {
        "colab": {
          "base_uri": "https://localhost:8080/",
          "height": 205,
          "referenced_widgets": [
            "ef70622dcdb144a0b290f091bd4a27f7",
            "5849c820dad442f6b2c505eb6268ef2b",
            "9f792e2d15b543c0975834026ecc113e",
            "6be9237f3ba3455e8de0b43daec99cd0",
            "841e91b71406449fa69d6e5040a54692",
            "83dea2cae9ef42bfad48167b02afe7aa",
            "e27a03892d094368b123e2bc935c5112",
            "93fa48c7903946438be7ca0573555941",
            "963d2c7685954f6099099c4dc124edb8",
            "9fddb161d43247469cdd210d054970c9",
            "b795a5e8c0644a87948a41d503bc6b9b",
            "24a79b4a87c74560803afe63601d7164",
            "2449e37e7e0947f38c824b10b75aec20",
            "42139b8e01ff4721b452dc274aa42e00",
            "18f00ef4ae6140159715228d54577416",
            "2143e3edd9f548ff881d66eeca78ed63",
            "171667894aa54bbb96de980205d68c71",
            "a8f0086280844590a2b7692d1f4f2049",
            "46c7dea40fbe45cf9997cd0475974045",
            "a4ea221636bb4a93844bd3d8c1ecabe6",
            "64174eaeaba045529bdd527e6e5010cf",
            "47c1efb4cd534995a58ac8405bfee066"
          ]
        },
        "id": "rdi5yAiglGQl",
        "outputId": "a526f337-e5d5-4cde-f5fb-84946bc0ac3a"
      },
      "execution_count": null,
      "outputs": [
        {
          "output_type": "stream",
          "name": "stderr",
          "text": [
            "/usr/local/lib/python3.11/dist-packages/huggingface_hub/utils/_auth.py:94: UserWarning: \n",
            "The secret `HF_TOKEN` does not exist in your Colab secrets.\n",
            "To authenticate with the Hugging Face Hub, create a token in your settings tab (https://huggingface.co/settings/tokens), set it as secret in your Google Colab and restart your session.\n",
            "You will be able to reuse this secret in all of your notebooks.\n",
            "Please note that authentication is recommended but still optional to access public models or datasets.\n",
            "  warnings.warn(\n"
          ]
        },
        {
          "output_type": "display_data",
          "data": {
            "text/plain": [
              "config.json:   0%|          | 0.00/665 [00:00<?, ?B/s]"
            ],
            "application/vnd.jupyter.widget-view+json": {
              "version_major": 2,
              "version_minor": 0,
              "model_id": "ef70622dcdb144a0b290f091bd4a27f7"
            }
          },
          "metadata": {}
        },
        {
          "output_type": "display_data",
          "data": {
            "text/plain": [
              "model.safetensors:   0%|          | 0.00/548M [00:00<?, ?B/s]"
            ],
            "application/vnd.jupyter.widget-view+json": {
              "version_major": 2,
              "version_minor": 0,
              "model_id": "24a79b4a87c74560803afe63601d7164"
            }
          },
          "metadata": {}
        }
      ]
    },
    {
      "cell_type": "code",
      "source": [
        "gpt_hf.eval()"
      ],
      "metadata": {
        "colab": {
          "base_uri": "https://localhost:8080/"
        },
        "id": "Db0EKLS7lINZ",
        "outputId": "1b6d0962-824f-4d99-875e-273bdf327a7f"
      },
      "execution_count": null,
      "outputs": [
        {
          "output_type": "execute_result",
          "data": {
            "text/plain": [
              "GPT2Model(\n",
              "  (wte): Embedding(50257, 768)\n",
              "  (wpe): Embedding(1024, 768)\n",
              "  (drop): Dropout(p=0.1, inplace=False)\n",
              "  (h): ModuleList(\n",
              "    (0-11): 12 x GPT2Block(\n",
              "      (ln_1): LayerNorm((768,), eps=1e-05, elementwise_affine=True)\n",
              "      (attn): GPT2SdpaAttention(\n",
              "        (c_attn): Conv1D(nf=2304, nx=768)\n",
              "        (c_proj): Conv1D(nf=768, nx=768)\n",
              "        (attn_dropout): Dropout(p=0.1, inplace=False)\n",
              "        (resid_dropout): Dropout(p=0.1, inplace=False)\n",
              "      )\n",
              "      (ln_2): LayerNorm((768,), eps=1e-05, elementwise_affine=True)\n",
              "      (mlp): GPT2MLP(\n",
              "        (c_fc): Conv1D(nf=3072, nx=768)\n",
              "        (c_proj): Conv1D(nf=768, nx=3072)\n",
              "        (act): NewGELUActivation()\n",
              "        (dropout): Dropout(p=0.1, inplace=False)\n",
              "      )\n",
              "    )\n",
              "  )\n",
              "  (ln_f): LayerNorm((768,), eps=1e-05, elementwise_affine=True)\n",
              ")"
            ]
          },
          "metadata": {},
          "execution_count": 5
        }
      ]
    },
    {
      "cell_type": "code",
      "source": [
        "BASE_CONFIG = {\n",
        "    \"vocab_size\": 50257,    # Vocabulary size\n",
        "    \"context_length\": 1024, # Context length\n",
        "    \"drop_rate\": 0.0,       # Dropout rate\n",
        "    \"qkv_bias\": True        # Query-key-value bias\n",
        "}\n",
        "\n",
        "model_configs = {\n",
        "    \"gpt2-small (124M)\": {\"emb_dim\": 768, \"n_layers\": 12, \"n_heads\": 12},\n",
        "    \"gpt2-medium (355M)\": {\"emb_dim\": 1024, \"n_layers\": 24, \"n_heads\": 16},\n",
        "    \"gpt2-large (774M)\": {\"emb_dim\": 1280, \"n_layers\": 36, \"n_heads\": 20},\n",
        "    \"gpt2-xl (1558M)\": {\"emb_dim\": 1600, \"n_layers\": 48, \"n_heads\": 25},\n",
        "}\n",
        "\n",
        "\n",
        "BASE_CONFIG.update(model_configs[CHOOSE_MODEL])"
      ],
      "metadata": {
        "id": "2CC__1vklOD2"
      },
      "execution_count": null,
      "outputs": []
    },
    {
      "cell_type": "code",
      "source": [
        "import torch\n",
        "\n",
        "def assign_check(left, right):\n",
        "    if left.shape != right.shape:\n",
        "        raise ValueError(f\"Shape mismatch. Left: {left.shape}, Right: {right.shape}\")\n",
        "    return torch.nn.Parameter(right.clone().detach())"
      ],
      "metadata": {
        "id": "TbGEqSRdlXWq"
      },
      "execution_count": null,
      "outputs": []
    },
    {
      "cell_type": "code",
      "source": [
        "import numpy as np\n",
        "\n",
        "\n",
        "def load_weights(gpt, gpt_hf):\n",
        "\n",
        "    d = gpt_hf.state_dict()\n",
        "\n",
        "    gpt.pos_emb.weight = assign_check(gpt.pos_emb.weight, d[\"wpe.weight\"])\n",
        "    gpt.tok_emb.weight = assign_check(gpt.tok_emb.weight, d[\"wte.weight\"])\n",
        "\n",
        "    for b in range(BASE_CONFIG[\"n_layers\"]):\n",
        "        q_w, k_w, v_w = np.split(d[f\"h.{b}.attn.c_attn.weight\"], 3, axis=-1)\n",
        "        gpt.trf_blocks[b].att.W_query.weight = assign_check(gpt.trf_blocks[b].att.W_query.weight, q_w.T)\n",
        "        gpt.trf_blocks[b].att.W_key.weight = assign_check(gpt.trf_blocks[b].att.W_key.weight, k_w.T)\n",
        "        gpt.trf_blocks[b].att.W_value.weight = assign_check(gpt.trf_blocks[b].att.W_value.weight, v_w.T)\n",
        "\n",
        "        q_b, k_b, v_b = np.split(d[f\"h.{b}.attn.c_attn.bias\"], 3, axis=-1)\n",
        "        gpt.trf_blocks[b].att.W_query.bias = assign_check(gpt.trf_blocks[b].att.W_query.bias, q_b)\n",
        "        gpt.trf_blocks[b].att.W_key.bias = assign_check(gpt.trf_blocks[b].att.W_key.bias, k_b)\n",
        "        gpt.trf_blocks[b].att.W_value.bias = assign_check(gpt.trf_blocks[b].att.W_value.bias, v_b)\n",
        "\n",
        "\n",
        "        gpt.trf_blocks[b].att.out_proj.weight = assign_check(gpt.trf_blocks[b].att.out_proj.weight, d[f\"h.{b}.attn.c_proj.weight\"].T)\n",
        "        gpt.trf_blocks[b].att.out_proj.bias = assign_check(gpt.trf_blocks[b].att.out_proj.bias, d[f\"h.{b}.attn.c_proj.bias\"])\n",
        "\n",
        "        gpt.trf_blocks[b].ff.layers[0].weight = assign_check(gpt.trf_blocks[b].ff.layers[0].weight, d[f\"h.{b}.mlp.c_fc.weight\"].T)\n",
        "        gpt.trf_blocks[b].ff.layers[0].bias = assign_check(gpt.trf_blocks[b].ff.layers[0].bias, d[f\"h.{b}.mlp.c_fc.bias\"])\n",
        "        gpt.trf_blocks[b].ff.layers[2].weight = assign_check(gpt.trf_blocks[b].ff.layers[2].weight, d[f\"h.{b}.mlp.c_proj.weight\"].T)\n",
        "        gpt.trf_blocks[b].ff.layers[2].bias = assign_check(gpt.trf_blocks[b].ff.layers[2].bias, d[f\"h.{b}.mlp.c_proj.bias\"])\n",
        "\n",
        "        gpt.trf_blocks[b].norm1.scale = assign_check(gpt.trf_blocks[b].norm1.scale, d[f\"h.{b}.ln_1.weight\"])\n",
        "        gpt.trf_blocks[b].norm1.shift = assign_check(gpt.trf_blocks[b].norm1.shift, d[f\"h.{b}.ln_1.bias\"])\n",
        "        gpt.trf_blocks[b].norm2.scale = assign_check(gpt.trf_blocks[b].norm2.scale, d[f\"h.{b}.ln_2.weight\"])\n",
        "        gpt.trf_blocks[b].norm2.shift = assign_check(gpt.trf_blocks[b].norm2.shift, d[f\"h.{b}.ln_2.bias\"])\n",
        "\n",
        "        gpt.final_norm.scale = assign_check(gpt.final_norm.scale, d[f\"ln_f.weight\"])\n",
        "        gpt.final_norm.shift = assign_check(gpt.final_norm.shift, d[f\"ln_f.bias\"])\n",
        "        gpt.out_head.weight = assign_check(gpt.out_head.weight, d[\"wte.weight\"])"
      ],
      "metadata": {
        "id": "w8h2Rb81lfLF"
      },
      "execution_count": null,
      "outputs": []
    },
    {
      "cell_type": "code",
      "source": [
        "import torch\n",
        "\n",
        "from GPT2_model1 import GPTModel\n",
        "\n",
        "gpt = GPTModel(BASE_CONFIG)\n",
        "\n",
        "device = torch.device(\"cuda\" if torch.cuda.is_available() else \"cpu\")\n",
        "load_weights(gpt, gpt_hf)"
      ],
      "metadata": {
        "id": "cdIbMvkPl6nu"
      },
      "execution_count": null,
      "outputs": []
    },
    {
      "cell_type": "code",
      "source": [
        "import tiktoken\n",
        "from  GPT2_model1 import generate, text_to_token_ids, token_ids_to_text\n",
        "\n",
        "torch.manual_seed(123)\n",
        "\n",
        "tokenizer = tiktoken.get_encoding(\"gpt2\")\n",
        "\n",
        "token_ids = generate(\n",
        "    model=gpt.to(device),\n",
        "    idx=text_to_token_ids(\"Every effort moves\", tokenizer).to(device),\n",
        "    max_new_tokens=30,\n",
        "    context_size=BASE_CONFIG[\"context_length\"],\n",
        "    top_k=1,\n",
        "    temperature=1.0\n",
        ")\n",
        "\n",
        "print(\"Output text:\\n\", token_ids_to_text(token_ids, tokenizer))"
      ],
      "metadata": {
        "colab": {
          "base_uri": "https://localhost:8080/"
        },
        "id": "NbkAA-RHmBR-",
        "outputId": "d4932d0f-1892-49b0-a825-feb87cc72959"
      },
      "execution_count": null,
      "outputs": [
        {
          "output_type": "stream",
          "name": "stdout",
          "text": [
            "Output text:\n",
            " Every effort moves forward, but it's not enough.\n",
            "\n",
            "\"I'm not going to sit here and say, 'I'm not going to do this,'\n"
          ]
        }
      ]
    },
    {
      "cell_type": "markdown",
      "source": [
        "![image.png](data:image/png;base64,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)"
      ],
      "metadata": {
        "id": "gRJWuY_HoUJg"
      }
    },
    {
      "cell_type": "code",
      "source": [
        "pip install safetensors"
      ],
      "metadata": {
        "colab": {
          "base_uri": "https://localhost:8080/"
        },
        "id": "pCAaZfsdoVTA",
        "outputId": "1e85aaf1-cb82-434b-d9b7-ee98b5382d3e"
      },
      "execution_count": null,
      "outputs": [
        {
          "output_type": "stream",
          "name": "stdout",
          "text": [
            "Requirement already satisfied: safetensors in /usr/local/lib/python3.11/dist-packages (0.5.2)\n"
          ]
        }
      ]
    },
    {
      "cell_type": "code",
      "source": [
        "import os\n",
        "import urllib.request\n",
        "from safetensors.torch import load_file\n",
        "\n",
        "URL_DIR = {\n",
        "  \"gpt2-small (124M)\": \"gpt2\",         # works ok\n",
        "  \"gpt2-medium (355M)\": \"gpt2-medium\", # this file seems to have issues via `generate`\n",
        "  \"gpt2-large (774M)\": \"gpt2-large\",   # works ok\n",
        "  \"gpt2-xl (1558M)\": \"gpt2-xl\"         # works ok\n",
        "}\n",
        "\n",
        "url = f\"https://huggingface.co/openai-community/{URL_DIR[CHOOSE_MODEL]}/resolve/main/model.safetensors\"\n",
        "output_file = f\"model-{URL_DIR[CHOOSE_MODEL]}.safetensors\"\n",
        "\n",
        "# Download file\n",
        "if not os.path.exists(output_file):\n",
        "    urllib.request.urlretrieve(url, output_file)\n",
        "\n",
        "# Load file\n",
        "state_dict = load_file(output_file)"
      ],
      "metadata": {
        "id": "oqZ_-sdFoZkJ"
      },
      "execution_count": null,
      "outputs": []
    },
    {
      "cell_type": "code",
      "source": [
        "def assign(left, right):\n",
        "    if left.shape != right.shape:\n",
        "        raise ValueError(f\"Shape mismatch. Left: {left.shape}, Right: {right.shape}\")\n",
        "    return torch.nn.Parameter(right.detach())"
      ],
      "metadata": {
        "id": "kTacp5PPonw3"
      },
      "execution_count": null,
      "outputs": []
    },
    {
      "cell_type": "code",
      "source": [
        "def load_weights_into_gpt(gpt, params):\n",
        "    gpt.pos_emb.weight = assign(gpt.pos_emb.weight, params[\"wpe.weight\"])\n",
        "    gpt.tok_emb.weight = assign(gpt.tok_emb.weight, params[\"wte.weight\"])\n",
        "\n",
        "    for b in range(len(gpt.trf_blocks)):\n",
        "        q_w, k_w, v_w = torch.chunk(\n",
        "            params[f\"h.{b}.attn.c_attn.weight\"], 3, axis=-1)\n",
        "        gpt.trf_blocks[b].att.W_query.weight = assign(\n",
        "            gpt.trf_blocks[b].att.W_query.weight, q_w.T)\n",
        "        gpt.trf_blocks[b].att.W_key.weight = assign(\n",
        "            gpt.trf_blocks[b].att.W_key.weight, k_w.T)\n",
        "        gpt.trf_blocks[b].att.W_value.weight = assign(\n",
        "            gpt.trf_blocks[b].att.W_value.weight, v_w.T)\n",
        "\n",
        "        q_b, k_b, v_b = torch.chunk(\n",
        "            params[f\"h.{b}.attn.c_attn.bias\"], 3, axis=-1)\n",
        "        gpt.trf_blocks[b].att.W_query.bias = assign(\n",
        "            gpt.trf_blocks[b].att.W_query.bias, q_b)\n",
        "        gpt.trf_blocks[b].att.W_key.bias = assign(\n",
        "            gpt.trf_blocks[b].att.W_key.bias, k_b)\n",
        "        gpt.trf_blocks[b].att.W_value.bias = assign(\n",
        "            gpt.trf_blocks[b].att.W_value.bias, v_b)\n",
        "\n",
        "        gpt.trf_blocks[b].att.out_proj.weight = assign(\n",
        "            gpt.trf_blocks[b].att.out_proj.weight,\n",
        "            params[f\"h.{b}.attn.c_proj.weight\"].T)\n",
        "        gpt.trf_blocks[b].att.out_proj.bias = assign(\n",
        "            gpt.trf_blocks[b].att.out_proj.bias,\n",
        "            params[f\"h.{b}.attn.c_proj.bias\"])\n",
        "\n",
        "        gpt.trf_blocks[b].ff.layers[0].weight = assign(\n",
        "            gpt.trf_blocks[b].ff.layers[0].weight,\n",
        "            params[f\"h.{b}.mlp.c_fc.weight\"].T)\n",
        "        gpt.trf_blocks[b].ff.layers[0].bias = assign(\n",
        "            gpt.trf_blocks[b].ff.layers[0].bias,\n",
        "            params[f\"h.{b}.mlp.c_fc.bias\"])\n",
        "        gpt.trf_blocks[b].ff.layers[2].weight = assign(\n",
        "            gpt.trf_blocks[b].ff.layers[2].weight,\n",
        "            params[f\"h.{b}.mlp.c_proj.weight\"].T)\n",
        "        gpt.trf_blocks[b].ff.layers[2].bias = assign(\n",
        "            gpt.trf_blocks[b].ff.layers[2].bias,\n",
        "            params[f\"h.{b}.mlp.c_proj.bias\"])\n",
        "\n",
        "        gpt.trf_blocks[b].norm1.scale = assign(\n",
        "            gpt.trf_blocks[b].norm1.scale,\n",
        "            params[f\"h.{b}.ln_1.weight\"])\n",
        "        gpt.trf_blocks[b].norm1.shift = assign(\n",
        "            gpt.trf_blocks[b].norm1.shift,\n",
        "            params[f\"h.{b}.ln_1.bias\"])\n",
        "        gpt.trf_blocks[b].norm2.scale = assign(\n",
        "            gpt.trf_blocks[b].norm2.scale,\n",
        "            params[f\"h.{b}.ln_2.weight\"])\n",
        "        gpt.trf_blocks[b].norm2.shift = assign(\n",
        "            gpt.trf_blocks[b].norm2.shift,\n",
        "            params[f\"h.{b}.ln_2.bias\"])\n",
        "\n",
        "    gpt.final_norm.scale = assign(gpt.final_norm.scale, params[\"ln_f.weight\"])\n",
        "    gpt.final_norm.shift = assign(gpt.final_norm.shift, params[\"ln_f.bias\"])\n",
        "    gpt.out_head.weight = assign(gpt.out_head.weight, params[\"wte.weight\"])"
      ],
      "metadata": {
        "id": "Vjpy8tJAouqB"
      },
      "execution_count": null,
      "outputs": []
    },
    {
      "cell_type": "code",
      "source": [
        "import torch\n",
        "from GPT2_model1 import GPTModel\n",
        "\n",
        "\n",
        "gpt = GPTModel(BASE_CONFIG)\n",
        "\n",
        "device = torch.device(\"cuda\" if torch.cuda.is_available() else \"cpu\")\n",
        "load_weights_into_gpt(gpt, state_dict)\n",
        "gpt.to(device);"
      ],
      "metadata": {
        "id": "RbbrONzho3gc"
      },
      "execution_count": null,
      "outputs": []
    },
    {
      "cell_type": "code",
      "source": [
        "import tiktoken\n",
        "from  GPT2_model1 import generate, text_to_token_ids, token_ids_to_text\n",
        "\n",
        "torch.manual_seed(123)\n",
        "\n",
        "tokenizer = tiktoken.get_encoding(\"gpt2\")\n",
        "\n",
        "token_ids = generate(\n",
        "    model=gpt.to(device),\n",
        "    idx=text_to_token_ids(\"Every effort moves\", tokenizer).to(device),\n",
        "    max_new_tokens=30,\n",
        "    context_size=BASE_CONFIG[\"context_length\"],\n",
        "    top_k=1,\n",
        "    temperature=1.0\n",
        ")\n",
        "\n",
        "print(\"Output text:\\n\", token_ids_to_text(token_ids, tokenizer))"
      ],
      "metadata": {
        "colab": {
          "base_uri": "https://localhost:8080/"
        },
        "id": "XWMYyT7Uo_n9",
        "outputId": "5da1dae3-e2a1-4478-8477-116973fdfb30"
      },
      "execution_count": null,
      "outputs": [
        {
          "output_type": "stream",
          "name": "stdout",
          "text": [
            "Output text:\n",
            " Every effort moves forward, but it's not enough.\n",
            "\n",
            "\"I'm not going to sit here and say, 'I'm not going to do this,'\n"
          ]
        }
      ]
    }
  ]
}