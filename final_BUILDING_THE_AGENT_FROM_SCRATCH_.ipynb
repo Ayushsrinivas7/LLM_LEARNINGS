{
  "nbformat": 4,
  "nbformat_minor": 0,
  "metadata": {
    "colab": {
      "provenance": [],
      "authorship_tag": "ABX9TyMzKiOx/IcL3i9t3Wannqrv",
      "include_colab_link": true
    },
    "kernelspec": {
      "name": "python3",
      "display_name": "Python 3"
    },
    "language_info": {
      "name": "python"
    }
  },
  "cells": [
    {
      "cell_type": "markdown",
      "metadata": {
        "id": "view-in-github",
        "colab_type": "text"
      },
      "source": [
        "<a href=\"https://colab.research.google.com/github/Ayushsrinivas7/LLM_LEARNINGS/blob/main/final_BUILDING_THE_AGENT_FROM_SCRATCH_.ipynb\" target=\"_parent\"><img src=\"https://colab.research.google.com/assets/colab-badge.svg\" alt=\"Open In Colab\"/></a>"
      ]
    },
    {
      "cell_type": "code",
      "execution_count": 43,
      "metadata": {
        "colab": {
          "base_uri": "https://localhost:8080/"
        },
        "id": "AOJJKGmR5KrM",
        "outputId": "75d1873f-8e31-47af-be4e-30ea7c0ed3db"
      },
      "outputs": [
        {
          "output_type": "stream",
          "name": "stdout",
          "text": [
            "Requirement already satisfied: groq in /usr/local/lib/python3.10/dist-packages (0.13.1)\n",
            "Requirement already satisfied: anyio<5,>=3.5.0 in /usr/local/lib/python3.10/dist-packages (from groq) (3.7.1)\n",
            "Requirement already satisfied: distro<2,>=1.7.0 in /usr/local/lib/python3.10/dist-packages (from groq) (1.9.0)\n",
            "Requirement already satisfied: httpx<1,>=0.23.0 in /usr/local/lib/python3.10/dist-packages (from groq) (0.28.1)\n",
            "Requirement already satisfied: pydantic<3,>=1.9.0 in /usr/local/lib/python3.10/dist-packages (from groq) (2.10.3)\n",
            "Requirement already satisfied: sniffio in /usr/local/lib/python3.10/dist-packages (from groq) (1.3.1)\n",
            "Requirement already satisfied: typing-extensions<5,>=4.10 in /usr/local/lib/python3.10/dist-packages (from groq) (4.12.2)\n",
            "Requirement already satisfied: idna>=2.8 in /usr/local/lib/python3.10/dist-packages (from anyio<5,>=3.5.0->groq) (3.10)\n",
            "Requirement already satisfied: exceptiongroup in /usr/local/lib/python3.10/dist-packages (from anyio<5,>=3.5.0->groq) (1.2.2)\n",
            "Requirement already satisfied: certifi in /usr/local/lib/python3.10/dist-packages (from httpx<1,>=0.23.0->groq) (2024.12.14)\n",
            "Requirement already satisfied: httpcore==1.* in /usr/local/lib/python3.10/dist-packages (from httpx<1,>=0.23.0->groq) (1.0.7)\n",
            "Requirement already satisfied: h11<0.15,>=0.13 in /usr/local/lib/python3.10/dist-packages (from httpcore==1.*->httpx<1,>=0.23.0->groq) (0.14.0)\n",
            "Requirement already satisfied: annotated-types>=0.6.0 in /usr/local/lib/python3.10/dist-packages (from pydantic<3,>=1.9.0->groq) (0.7.0)\n",
            "Requirement already satisfied: pydantic-core==2.27.1 in /usr/local/lib/python3.10/dist-packages (from pydantic<3,>=1.9.0->groq) (2.27.1)\n"
          ]
        }
      ],
      "source": [
        "!pip install groq"
      ]
    },
    {
      "cell_type": "code",
      "source": [
        "import os\n",
        "os.environ['GROQ_API_KEY'] = \"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\"\n"
      ],
      "metadata": {
        "id": "T_Dyo60i65xM"
      },
      "execution_count": 44,
      "outputs": []
    },
    {
      "cell_type": "code",
      "source": [
        "import os\n",
        "\n",
        "from groq import Groq\n",
        "\n",
        "client = Groq(\n",
        "    api_key=os.environ.get(\"GROQ_API_KEY\"),\n",
        ")\n",
        "\n",
        "chat_completion = client.chat.completions.create(\n",
        "    messages=[\n",
        "        {\n",
        "            \"role\": \"user\",\n",
        "            \"content\": \"Explain the importance of fast language models\",\n",
        "        }\n",
        "    ],\n",
        "    model=\"llama-3.3-70b-versatile\",\n",
        "    temperature = 0\n",
        ")\n",
        "\n",
        "print(chat_completion.choices[0].message.content)"
      ],
      "metadata": {
        "colab": {
          "base_uri": "https://localhost:8080/"
        },
        "id": "zu1ZxCjO7ajU",
        "outputId": "6aef9c7e-63e4-443e-a16a-aade72a82e36"
      },
      "execution_count": 45,
      "outputs": [
        {
          "output_type": "stream",
          "name": "stdout",
          "text": [
            "Fast language models are crucial in today's technology landscape, and their importance can be understood from several perspectives:\n",
            "\n",
            "1. **Efficient Processing**: Fast language models can process and analyze large amounts of text data quickly, which is essential for applications that require real-time or near-real-time processing, such as chatbots, virtual assistants, and sentiment analysis tools.\n",
            "2. **Improved User Experience**: Fast language models enable applications to respond quickly to user queries, improving the overall user experience. This is particularly important for applications that require immediate feedback, such as language translation, text summarization, and question-answering systems.\n",
            "3. **Scalability**: Fast language models can handle a large volume of requests and data, making them ideal for large-scale applications, such as social media platforms, search engines, and content management systems.\n",
            "4. **Reduced Latency**: Fast language models minimize latency, which is critical for applications that require fast response times, such as real-time language translation, speech recognition, and dialogue systems.\n",
            "5. **Energy Efficiency**: Fast language models can be more energy-efficient, as they require less computational power and memory to process text data. This is important for applications that run on devices with limited resources, such as smartphones, smart home devices, and IoT devices.\n",
            "6. **Cost Savings**: Fast language models can help reduce costs associated with computational resources, such as cloud computing, data storage, and maintenance. This is particularly important for businesses and organizations that rely heavily on language processing applications.\n",
            "7. **Enhanced Security**: Fast language models can help detect and respond to security threats, such as phishing attacks, spam, and malware, in real-time, improving the overall security posture of an organization.\n",
            "8. **Better Decision-Making**: Fast language models can provide insights and analysis of large amounts of text data quickly, enabling businesses and organizations to make informed decisions faster and more accurately.\n",
            "9. **Competitive Advantage**: Fast language models can provide a competitive advantage for businesses and organizations, as they can respond quickly to changing market conditions, customer needs, and emerging trends.\n",
            "10. **Advancements in AI Research**: Fast language models can accelerate advancements in AI research, as they enable researchers to test and validate new ideas, models, and algorithms quickly, leading to breakthroughs in areas like natural language processing, machine learning, and cognitive computing.\n",
            "\n",
            "Some examples of applications that benefit from fast language models include:\n",
            "\n",
            "* Virtual assistants (e.g., Siri, Alexa, Google Assistant)\n",
            "* Chatbots and customer service platforms\n",
            "* Language translation and localization tools\n",
            "* Sentiment analysis and opinion mining tools\n",
            "* Text summarization and content generation tools\n",
            "* Speech recognition and dialogue systems\n",
            "* Question-answering systems and knowledge graphs\n",
            "* Social media monitoring and analytics tools\n",
            "\n",
            "In summary, fast language models are essential for a wide range of applications, from chatbots and virtual assistants to sentiment analysis and text summarization tools. Their importance lies in their ability to process and analyze large amounts of text data quickly, efficiently, and accurately, enabling businesses and organizations to make informed decisions, improve user experience, and stay competitive in today's fast-paced technology landscape.\n"
          ]
        }
      ]
    },
    {
      "cell_type": "code",
      "source": [
        "class Agent:\n",
        "    def __init__(self, client: Groq, system: str = \"\") -> None:\n",
        "        self.client = client\n",
        "        self.system = system\n",
        "        self.messages: list = []\n",
        "        if self.system:\n",
        "            self.messages.append({\"role\": \"system\", \"content\": system})\n",
        "\n",
        "    def __call__(self, message=\"\"):\n",
        "        if message:\n",
        "            self.messages.append({\"role\": \"user\", \"content\": message})\n",
        "        result = self.execute()\n",
        "        self.messages.append({\"role\": \"assistant\", \"content\": result})\n",
        "        return result\n",
        "\n",
        "    def execute(self):\n",
        "        completion = client.chat.completions.create(\n",
        "            model=\"llama3-70b-8192\", messages=self.messages\n",
        "        )\n",
        "        return completion.choices[0].message.content\n",
        "\n"
      ],
      "metadata": {
        "id": "ycMA8lQsMghs"
      },
      "execution_count": 46,
      "outputs": []
    },
    {
      "cell_type": "code",
      "source": [
        "system_prompt1 = \"\"\"\n",
        "You run in a loop of Thought, Action, PAUSE, Observation.\n",
        "At the end of the loop you output an Answer\n",
        "Use Thought to describe your thoughts about the question you have been asked.\n",
        "Use Action to run one of the actions available to you - then return PAUSE.\n",
        "Observation will be the result of running those actions.\n",
        "\n",
        "Your available actions are:\n",
        "\n",
        "calculate:\n",
        "e.g. calculate: 4 * 7 / 3\n",
        "Runs a calculation and returns the number - uses Python so be sure to use floating point syntax if necessary\n",
        "\n",
        "get_planet_mass:\n",
        "e.g. get_planet_mass: Earth\n",
        "returns weight of the planet in kg\n",
        "\n",
        "Example session:\n",
        "\n",
        "Question: What is the mass of Earth times 2?\n",
        "Thought: I need to find the mass of Earth\n",
        "Action: get_planet_mass: Earth\n",
        "PAUSE\n",
        "\n",
        "You will be called again with this:\n",
        "\n",
        "Observation: 5.972e24\n",
        "\n",
        "Thought: I need to multiply this by 2\n",
        "Action: calculate: 5.972e24 * 2\n",
        "PAUSE\n",
        "\n",
        "You will be called again with this:\n",
        "\n",
        "Observation: 1,1944×10e25\n",
        "\n",
        "If you have the answer, output it as the Answer.\n",
        "\n",
        "Answer: The mass of Earth times 2 is 1,1944×10e25.\n",
        "\n",
        "Now it's your turn:\n",
        "\"\"\".strip()\n"
      ],
      "metadata": {
        "id": "gwlqsuqXKdf7"
      },
      "execution_count": 47,
      "outputs": []
    },
    {
      "cell_type": "code",
      "source": [
        "system_prompt2 = \"\"\"\n",
        "You run in a loop of Thought, Action, PAUSE, Observation.\n",
        "At the end of the loop you output an Answer.\n",
        "Use Thought to describe your thoughts about the question you have been asked.\n",
        "Use Action to run one of the actions available to you - then return PAUSE.\n",
        "Observation will be the result of running those actions.\n",
        "\n",
        "Your available actions are:\n",
        "\n",
        "calculate:\n",
        "e.g. calculate: (5 + 3) * 2\n",
        "Runs a calculation and returns the number - uses Python, so be sure to use floating point syntax if necessary.\n",
        "\n",
        "wikipedia:\n",
        "e.g. wikipedia: Albert Einstein\n",
        "Search Wikipedia and return a summary for the given term.\n",
        "\n",
        "book_summary:\n",
        "e.g. book_summary: Harry Potter and the Sorcerer’s Stone\n",
        "Searches a book database and returns a short summary of the specified book.\n",
        "\n",
        "Example sessions:\n",
        "\n",
        "---\n",
        "\n",
        "**Session 1: Calculate**\n",
        "\n",
        "Question: How many pages is 10 chapters if each chapter is 25 pages?\n",
        "Thought: I should calculate the total pages by multiplying chapters by pages per chapter.\n",
        "Action: calculate: 10 * 25\n",
        "PAUSE\n",
        "\n",
        "You will be called again with this:\n",
        "\n",
        "Observation: 250\n",
        "\n",
        "You then output:\n",
        "\n",
        "Answer: The total number of pages is 250.\n",
        "\n",
        "---\n",
        "\n",
        "**Session 2: Wikipedia**\n",
        "\n",
        "Question: Who is Albert Einstein?\n",
        "Thought: I should look up Albert Einstein on Wikipedia to find more details about him.\n",
        "Action: wikipedia: Albert Einstein\n",
        "PAUSE\n",
        "\n",
        "You will be called again with this:\n",
        "\n",
        "Observation: Albert Einstein was a theoretical physicist who developed the theory of relativity, one of the two pillars of modern physics. He is best known for his mass-energy equivalence formula, E = mc².\n",
        "\n",
        "You then output:\n",
        "\n",
        "Answer: Albert Einstein was a theoretical physicist who developed the theory of relativity and is best known for his formula, E = mc².\n",
        "\n",
        "---\n",
        "\n",
        "**Session 3: Book Summary**\n",
        "\n",
        "Question: Can you summarize \"Harry Potter and the Sorcerer’s Stone\"?\n",
        "Thought: I should use the book_summary action to get a summary of the book.\n",
        "Action: book_summary: Harry Potter and the Sorcerer’s Stone\n",
        "PAUSE\n",
        "\n",
        "You will be called again with this:\n",
        "\n",
        "Observation: \"Harry Potter and the Sorcerer's Stone\" is the first book in the Harry Potter series by J.K. Rowling. It introduces Harry, an orphan who discovers he is a wizard on his 11th birthday, and follows his adventures at Hogwarts School of Witchcraft and Wizardry.\n",
        "\n",
        "You then output:\n",
        "\n",
        "Answer: \"Harry Potter and the Sorcerer's Stone\" is the first book in the series, introducing Harry as he discovers he is a wizard and embarks on adventures at Hogwarts School of Witchcraft and Wizardry.\n",
        "\n",
        "---------\n",
        "\n",
        "Now it's your turn :\n",
        "\"\"\".strip()"
      ],
      "metadata": {
        "id": "SndRt-OH532P"
      },
      "execution_count": 48,
      "outputs": []
    },
    {
      "cell_type": "code",
      "source": [
        "system_prompt3 = \"\"\"\n",
        "You run in a loop of Thought, Action, PAUSE, Observation.\n",
        "At the end of the loop you output an Answer\n",
        "Use Thought to describe your thoughts about the question you have been asked.\n",
        "Use Action to run one of the actions available to you - then return PAUSE.\n",
        "Observation will be the result of running those actions.\n",
        "\n",
        "Your available actions are:\n",
        "\n",
        "calculate:\n",
        "e.g. calculate: 4 * 7 / 3\n",
        "Runs a calculation and returns the number - uses Python so be sure to use floating point syntax if necessary\n",
        "\n",
        "wikipedia:\n",
        "e.g. wikipedia: Django\n",
        "Returns a summary from searching Wikipedia\n",
        "\n",
        "simon_blog_search:\n",
        "e.g. simon_blog_search: Django\n",
        "Search Simon's blog for that term\n",
        "\n",
        "Always look things up on Wikipedia if you have the opportunity to do so.\n",
        "\n",
        "Example session:\n",
        "\n",
        "Question: What is the capital of France?\n",
        "Thought: I should look up France on Wikipedia\n",
        "Action: wikipedia: France\n",
        "PAUSE\n",
        "\n",
        "You will be called again with this:\n",
        "\n",
        "Observation: France is a country. The capital is Paris.\n",
        "\n",
        "You then output:\n",
        "\n",
        "Answer: The capital of France is Paris\n",
        "\n",
        "Now it's your turn :\n",
        "\n",
        "\"\"\".strip()\n"
      ],
      "metadata": {
        "id": "0hy2mSGP6NTt"
      },
      "execution_count": 49,
      "outputs": []
    },
    {
      "cell_type": "code",
      "source": [
        "system_prompt4 = \"\"\"\n",
        "You run in a loop of Thought, Action, PAUSE, Observation.\n",
        "At the end of the loop you output an Answer\n",
        "Use Thought to describe your thoughts about the question you have been asked.\n",
        "Use Action to run one of the actions available to you - then return PAUSE.\n",
        "Observation will be the result of running those actions.\n",
        "\n",
        "Your available actions are:\n",
        "\n",
        "calculate:\n",
        "e.g. calculate: 4 * 7 / 3\n",
        "Runs a calculation and returns the number - uses Python so be sure to use floating point syntax if necessary\n",
        "\n",
        "wikipedia:\n",
        "e.g. wikipedia: Django\n",
        "Returns a summary from searching Wikipedia\n",
        "\n",
        "Always look things up on Wikipedia if you have the opportunity to do so.\n",
        "\n",
        "Example session:\n",
        "\n",
        "Question: What is the capital of France?\n",
        "Thought: I should look up France on Wikipedia\n",
        "Action: wikipedia: France\n",
        "PAUSE\n",
        "\n",
        "You will be called again with this:\n",
        "\n",
        "Observation: France is a country. The capital is Paris.\n",
        "Thought: I think I have found the answer\n",
        "Action: Paris.\n",
        "You should then call the appropriate action and determine the answer from the result\n",
        "\n",
        "You then output:\n",
        "\n",
        "Answer: The capital of France is Paris\n",
        "\n",
        "Example session\n",
        "\n",
        "Question: What is the mass of Earth times 2?\n",
        "Thought: I need to find the mass of Earth on Wikipedia\n",
        "Action: wikipedia : mass of earth\n",
        "PAUSE\n",
        "\n",
        "You will be called again with this:\n",
        "\n",
        "Observation: mass of earth is 1,1944×10e25\n",
        "\n",
        "Thought: I need to multiply this by 2\n",
        "Action: calculate: 5.972e24 * 2\n",
        "PAUSE\n",
        "\n",
        "You will be called again with this:\n",
        "\n",
        "Observation: 1,1944×10e25\n",
        "\n",
        "If you have the answer, output it as the Answer.\n",
        "\n",
        "Answer: The mass of Earth times 2 is 1,1944×10e25.\n",
        "\n",
        "Now it's your turn:\n",
        "\"\"\".strip()"
      ],
      "metadata": {
        "id": "fIq4ihvnJ19S"
      },
      "execution_count": 50,
      "outputs": []
    },
    {
      "cell_type": "code",
      "source": [],
      "metadata": {
        "id": "tojgjLVTv4En"
      },
      "execution_count": 50,
      "outputs": []
    },
    {
      "cell_type": "code",
      "source": [
        "\n",
        "\n",
        "\n",
        "import re\n",
        "import httpx\n",
        "\n",
        "\n",
        "def wikipedia(q):\n",
        "    return httpx.get(\"https://en.wikipedia.org/w/api.php\", params={\n",
        "        \"action\": \"query\",\n",
        "        \"list\": \"search\",\n",
        "        \"srsearch\": q,\n",
        "        \"format\": \"json\"\n",
        "    }).json()[\"query\"][\"search\"][0][\"snippet\"]\n",
        "\n",
        "\n",
        "def calculate(operation: str) -> float:\n",
        "    return eval(operation)\n",
        "\n",
        "def get_planet_mass(planet) -> float :\n",
        "   planet = planet.lower()\n",
        "   if planet ==  \"earth\":\n",
        "            return 5.972e24\n",
        "   elif planet ==  \"jupiter\":\n",
        "            return 1.898e27\n",
        "   elif planet ==  \"mars\":\n",
        "            return 6.39e23\n",
        "   elif planet ==  \"mercury\":\n",
        "            return 3.285e23\n",
        "   elif planet ==  \"neptune\":\n",
        "            return 1.024e26\n",
        "   elif planet ==  \"saturn\":\n",
        "            return 5.683e26\n",
        "   elif planet ==  \"uranus\":\n",
        "            return 8.681e25\n",
        "   elif planet ==  \"venus\":\n",
        "            return 4.867e24\n",
        "   else:\n",
        "\n",
        "            return 0.0"
      ],
      "metadata": {
        "id": "MDhofB9gtw3S"
      },
      "execution_count": 51,
      "outputs": []
    },
    {
      "cell_type": "code",
      "source": [
        "def loop(max_iterations=10, query: str = \"\"):\n",
        "\n",
        "    agent = Agent(client=client, system=system_prompt4)\n",
        "\n",
        "    tools = [\"calculate\", \"wikipedia\"]\n",
        "\n",
        "    next_prompt = query\n",
        "\n",
        "    i = 0\n",
        "\n",
        "    while i < max_iterations:\n",
        "        i += 1\n",
        "        result = agent(next_prompt)\n",
        "        print(result)\n",
        "\n",
        "        if \"PAUSE\" in result and \"Action\" in result:\n",
        "            action = re.findall(r\"Action: ([a-z_]+): (.+)\", result, re.IGNORECASE)\n",
        "            print(action)\n",
        "            chosen_tool = action[0][0]\n",
        "            arg = action[0][1]\n",
        "\n",
        "            if chosen_tool in tools:\n",
        "                result_tool = eval(f\"{chosen_tool}('{arg}')\")\n",
        "                next_prompt = f\"Observation: {result_tool}\"\n",
        "\n",
        "            else:\n",
        "                next_prompt = \"Observation: Tool not found\"\n",
        "\n",
        "            print(next_prompt)\n",
        "            continue\n",
        "\n",
        "        if \"Answer\" in result:\n",
        "            break\n"
      ],
      "metadata": {
        "id": "4UsGSMfuKSLx"
      },
      "execution_count": 52,
      "outputs": []
    },
    {
      "cell_type": "code",
      "source": [
        "loop(query=\"What is current age of Mr. Nadrendra Modi multiplied by 2?\")\n"
      ],
      "metadata": {
        "colab": {
          "base_uri": "https://localhost:8080/"
        },
        "id": "ToFOBqaVKWtV",
        "outputId": "9d285507-db20-4106-c67f-44489569a5e6"
      },
      "execution_count": 53,
      "outputs": [
        {
          "output_type": "stream",
          "name": "stdout",
          "text": [
            "Thought: I need to find the current age of Narendra Modi on Wikipedia. I'll also need to find his birthdate to calculate his current age.\n",
            "Action: wikipedia: Narendra Modi\n",
            "PAUSE\n",
            "[('wikipedia', 'Narendra Modi')]\n",
            "Observation: <span class=\"searchmatch\">Narendra</span> Damodardas <span class=\"searchmatch\">Modi</span> (born 17 September 1950) is an Indian politician who has served as Prime Minister of India since 2014. <span class=\"searchmatch\">Modi</span> was the chief minister\n",
            "Thought: I've found Narendra Modi's birthdate, which is 17 September 1950. Now I need to calculate his current age.\n",
            "Action: calculate: 2023 - 1950\n",
            "PAUSE\n",
            "[('calculate', '2023 - 1950')]\n",
            "Observation: 73\n",
            "Thought: I've found Narendra Modi's current age, which is 73. Now I need to multiply it by 2.\n",
            "Action: calculate: 73 * 2\n",
            "PAUSE\n",
            "[('calculate', '73 * 2')]\n",
            "Observation: 146\n",
            "Thought: I've calculated Narendra Modi's current age multiplied by 2, which is 146.\n",
            "Answer: The current age of Mr. Narendra Modi multiplied by 2 is 146.\n"
          ]
        }
      ]
    },
    {
      "cell_type": "code",
      "source": [
        "loop(query=\"What will be age of Mr. Narendra Modi in 2024 multiplied by 2?\")"
      ],
      "metadata": {
        "colab": {
          "base_uri": "https://localhost:8080/"
        },
        "id": "8B7CI_gNKaS_",
        "outputId": "6730e35c-e33a-4264-e646-c4b63baf20ad"
      },
      "execution_count": 54,
      "outputs": [
        {
          "output_type": "stream",
          "name": "stdout",
          "text": [
            "Thought: I need to find the birthdate of Narendra Modi on Wikipedia\n",
            "Action: wikipedia: Narendra Modi\n",
            "PAUSE\n",
            "[('wikipedia', 'Narendra Modi')]\n",
            "Observation: <span class=\"searchmatch\">Narendra</span> Damodardas <span class=\"searchmatch\">Modi</span> (born 17 September 1950) is an Indian politician who has served as Prime Minister of India since 2014. <span class=\"searchmatch\">Modi</span> was the chief minister\n",
            "Thought: I have found the birthdate of Narendra Modi, now I need to calculate his age in 2024 and multiply it by 2.\n",
            "Action: calculate: (2024 - 1950) * 2\n",
            "PAUSE\n",
            "[('calculate', '(2024 - 1950) * 2')]\n",
            "Observation: 148\n",
            "Thought: I think I have found the answer\n",
            "Action: The age of Narendra Modi in 2024 multiplied by 2 is 148.\n",
            "Answer: The age of Narendra Modi in 2024 multiplied by 2 is 148.\n"
          ]
        }
      ]
    },
    {
      "cell_type": "markdown",
      "source": [
        "checking the flow"
      ],
      "metadata": {
        "id": "nN2dAxBGxeTq"
      }
    },
    {
      "cell_type": "code",
      "source": [],
      "metadata": {
        "id": "NsTb317ELBtQ"
      },
      "execution_count": 56,
      "outputs": []
    }
  ]
}